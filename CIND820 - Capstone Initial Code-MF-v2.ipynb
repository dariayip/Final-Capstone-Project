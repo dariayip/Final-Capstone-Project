{
 "cells": [
  {
   "cell_type": "code",
   "execution_count": 8,
   "id": "41a82cd3",
   "metadata": {},
   "outputs": [],
   "source": [
    "import pandas as pd\n",
    "import json\n",
    "import numpy as np\n",
    "#import pandas_profiling"
   ]
  },
  {
   "cell_type": "code",
   "execution_count": 9,
   "id": "f3d6dda1",
   "metadata": {},
   "outputs": [],
   "source": [
    "#we only need 3 columns in review.json. Since the file is so big (5GB!) we will avoid opening the whole JSON file\n",
    "#and instead append to a list and then make it into a dataframe\n",
    "\n",
    "#ADD IN REVIEW JSON\n",
    "\n",
    "chunk = []\n",
    "columns = [\"user_id\", \"business_id\", \"stars\"] #We only need these columns\n",
    "\n",
    "with open(\"/Users/dariayip/Documents/vs code/yelp_academic_dataset_review.json\", \"r\") as y:\n",
    "    for line in y:\n",
    "        doc = json.loads(line)\n",
    "        lst = [doc[\"user_id\"], doc[\"business_id\"], doc[\"stars\"]]\n",
    "        chunk.append(lst)\n",
    "\n",
    "review = pd.DataFrame(data=chunk, columns=columns)\n",
    "\n",
    "review.rename(columns={\"stars\": \"stars_review\"}, inplace=True) #rename stars to stars review to avoid confusion"
   ]
  },
  {
   "cell_type": "code",
   "execution_count": 10,
   "id": "24120a19",
   "metadata": {},
   "outputs": [],
   "source": [
    "business_dtypes = {\"business_id\" : str, \"name\" : str, \"address\" : str, \"city\" : str, \"state\" : str, \"postal_code\" : str,\n",
    "                  \"latitude\" : float, \"longitude\" : float, \"stars\" : float, \"review_count\" : int, \"is_open\" : int,\n",
    "                  \"attributes\" : str, \"categories\" : str, \"hours\" : str}\n",
    "\n",
    "#Open the Business JSON, with orient as columns --> values in that ordered pair\n",
    "with open(\"/Users/dariayip/Documents/vs code/yelp_academic_dataset_business.json\", \"r\") as y:\n",
    "    business = pd.read_json(y, orient=\"records\", lines = True,  dtype = business_dtypes) #save as a business df\n",
    "\n",
    "business.rename(columns={\"stars\": \"stars_business\"}, inplace=True) #rename stars to stars biz to avoid confusion"
   ]
  },
  {
   "cell_type": "code",
   "execution_count": 11,
   "id": "120110c5",
   "metadata": {},
   "outputs": [],
   "source": [
    "#perform a left join to get the businesses with reviews and add the columns in the business \n",
    "businesseswithreviews = pd.merge(review, business, on = \"business_id\", how = \"left\")\n",
    "#This is done to merge all relevant information into one dataframe"
   ]
  },
  {
   "cell_type": "code",
   "execution_count": 12,
   "id": "e8c7b3f1",
   "metadata": {},
   "outputs": [],
   "source": [
    "#Downsampling\n",
    "\n",
    "businesseswithreviews = businesseswithreviews[businesseswithreviews[\"is_open\"] == 1] #drop any businesses that are no longer operational\n",
    "businesseswithreviews = businesseswithreviews[businesseswithreviews[\"categories\"].str.contains(\"Restaurants\", na=False)] #Delete any businesses that do not include the word \"Restaurants\" within the Categories section"
   ]
  },
  {
   "cell_type": "code",
   "execution_count": 13,
   "id": "4eae07d1",
   "metadata": {},
   "outputs": [
    {
     "name": "stdout",
     "output_type": "stream",
     "text": [
      "(511138, 16)\n"
     ]
    },
    {
     "data": {
      "text/plain": [
       "(499171, 16)"
      ]
     },
     "execution_count": 13,
     "metadata": {},
     "output_type": "execute_result"
    }
   ],
   "source": [
    "#Downsampling Part 2\n",
    "\n",
    "businesseswithreviews = businesseswithreviews[businesseswithreviews[\"city\"] == \"Philadelphia\"] #filter out any cities other than Philadelphia (most businesses by city)\n",
    "print(businesseswithreviews.shape)\n",
    "\n",
    "#Group by business_id and count the number of reviews per business with the .transform(len)\n",
    "counts_business_id = businesseswithreviews.groupby(\"business_id\")[\"business_id\"].transform(len)\n",
    "counter = (counts_business_id > 20)\n",
    "businesseswithreviews = businesseswithreviews[counter]\n",
    "businesseswithreviews.shape\n",
    "#remove businesses with less than 20 reviews"
   ]
  },
  {
   "cell_type": "code",
   "execution_count": 14,
   "id": "de47d05e",
   "metadata": {},
   "outputs": [
    {
     "data": {
      "text/plain": [
       "(448906, 16)"
      ]
     },
     "execution_count": 14,
     "metadata": {},
     "output_type": "execute_result"
    }
   ],
   "source": [
    "#Systematic Sampling (removing every 10th row)\n",
    "businesseswithreviews = businesseswithreviews[businesseswithreviews.index % 10 != 0] \n",
    "businesseswithreviews.shape"
   ]
  },
  {
   "cell_type": "code",
   "execution_count": 15,
   "id": "b7f0a966",
   "metadata": {},
   "outputs": [
    {
     "data": {
      "text/plain": [
       "(89781, 16)"
      ]
     },
     "execution_count": 15,
     "metadata": {},
     "output_type": "execute_result"
    }
   ],
   "source": [
    "#Random Sampling of 20% of dataset\n",
    "businesseswithreviews = businesseswithreviews.sample(frac=0.20)\n",
    "businesseswithreviews.shape"
   ]
  },
  {
   "cell_type": "code",
   "execution_count": 16,
   "id": "4e154aea",
   "metadata": {},
   "outputs": [
    {
     "name": "stdout",
     "output_type": "stream",
     "text": [
      "user_id           0\n",
      "business_id       0\n",
      "stars_review      0\n",
      "name              0\n",
      "address           0\n",
      "city              0\n",
      "state             0\n",
      "postal_code       0\n",
      "latitude          0\n",
      "longitude         0\n",
      "stars_business    0\n",
      "review_count      0\n",
      "is_open           0\n",
      "attributes        0\n",
      "categories        0\n",
      "hours             0\n",
      "dtype: int64\n"
     ]
    }
   ],
   "source": [
    "#Detect any missing data\n",
    "missingdata = businesseswithreviews.isnull().sum() #sum up the amount of missing data points in this dataframe\n",
    "print(missingdata)"
   ]
  },
  {
   "cell_type": "code",
   "execution_count": 17,
   "id": "d0c606e5",
   "metadata": {},
   "outputs": [
    {
     "name": "stdout",
     "output_type": "stream",
     "text": [
      "business_id       0\n",
      "name              0\n",
      "address           0\n",
      "city              0\n",
      "state             0\n",
      "postal_code       0\n",
      "latitude          0\n",
      "longitude         0\n",
      "stars_business    0\n",
      "review_count      0\n",
      "is_open           0\n",
      "attributes        0\n",
      "categories        0\n",
      "hours             0\n",
      "dtype: int64\n"
     ]
    }
   ],
   "source": [
    "#Detect any missing data\n",
    "missingdata = business.isnull().sum() #sum up the amount of missing data points in this dataframe\n",
    "print(missingdata)"
   ]
  },
  {
   "cell_type": "code",
   "execution_count": 18,
   "id": "c12975cd",
   "metadata": {},
   "outputs": [
    {
     "name": "stdout",
     "output_type": "stream",
     "text": [
      "user_id         0\n",
      "business_id     0\n",
      "stars_review    0\n",
      "dtype: int64\n"
     ]
    }
   ],
   "source": [
    "#Detect any missing data\n",
    "missingdata = review.isnull().sum() #sum up the amount of missing data points in this dataframe\n",
    "print(missingdata)"
   ]
  },
  {
   "cell_type": "code",
   "execution_count": 19,
   "id": "0b89009c",
   "metadata": {},
   "outputs": [],
   "source": [
    "from surprise import Dataset, Reader\n",
    "from surprise.model_selection import train_test_split\n",
    "\n",
    "reader = Reader(line_format='user item rating', rating_scale=(1, 5)) #using the rating scale to ensure it stays as\n",
    "#1 to 5\n",
    "dataset = Dataset.load_from_df(businesseswithreviews[[\"user_id\", \"name\", \"stars_review\"]], reader)\n",
    "\n",
    "#Split the dataset into train and test sets before we preprocess the data using Surprise to 80/20\n",
    "df_train, df_test = train_test_split(dataset, test_size=0.2)"
   ]
  },
  {
   "cell_type": "code",
   "execution_count": 21,
   "id": "0dda7960",
   "metadata": {},
   "outputs": [],
   "source": [
    "from surprise import SVD\n",
    "method = SVD()\n",
    "method.fit(df_train)  #An alternative is to use ALS, which is good for sparse datasets. Training the model here\n",
    "recommendations = method.test(df_test) #generate recs by using SVD on the test dataset"
   ]
  },
  {
   "cell_type": "code",
   "execution_count": 22,
   "id": "40f067ef",
   "metadata": {},
   "outputs": [
    {
     "name": "stdout",
     "output_type": "stream",
     "text": [
      "MAE:  0.9398\n",
      "RMSE: 1.1845\n"
     ]
    }
   ],
   "source": [
    "from surprise import accuracy\n",
    "\n",
    "#Using Surprise, we can calculate RMSE and MAE to evaluate our recommendation system\n",
    "MAE = accuracy.mae(recommendations)\n",
    "RMSE = accuracy.rmse(recommendations)"
   ]
  }
 ],
 "metadata": {
  "kernelspec": {
   "display_name": "Python 3 (ipykernel)",
   "language": "python",
   "name": "python3"
  },
  "language_info": {
   "codemirror_mode": {
    "name": "ipython",
    "version": 3
   },
   "file_extension": ".py",
   "mimetype": "text/x-python",
   "name": "python",
   "nbconvert_exporter": "python",
   "pygments_lexer": "ipython3",
   "version": "3.11.2"
  }
 },
 "nbformat": 4,
 "nbformat_minor": 5
}
